{
  "nbformat": 4,
  "nbformat_minor": 0,
  "metadata": {
    "colab": {
      "provenance": []
    },
    "kernelspec": {
      "name": "python3",
      "display_name": "Python 3"
    },
    "language_info": {
      "name": "python"
    }
  },
  "cells": [
    {
      "cell_type": "code",
      "execution_count": 14,
      "metadata": {
        "colab": {
          "base_uri": "https://localhost:8080/"
        },
        "id": "qRSxlGhHEBuh",
        "outputId": "b79424c5-3279-4878-dc67-9a3c1a696659"
      },
      "outputs": [
        {
          "output_type": "stream",
          "name": "stdout",
          "text": [
            "Enter your emotion (happy, angry, sad, anxious): angry\n",
            "Recommended songs for angry : ['SPOT! (feat. JENNIE)', '고민중독', '한 페이지가 될 수 있게', '예뻤어', '에피소드']\n"
          ]
        }
      ],
      "source": [
        "def read_labeled_songs_file(file_path):\n",
        "    labeled_songs = {}\n",
        "    with open(file_path, 'r') as file:\n",
        "        for line in file:\n",
        "            song, emotion = line.strip().split(',' , 1)\n",
        "            if emotion.lower() in labeled_songs:\n",
        "                labeled_songs[emotion.lower()].append(song)\n",
        "            else:\n",
        "                labeled_songs[emotion.lower()] = [song]\n",
        "    return labeled_songs\n",
        "\n",
        "def find_songs_by_emotion(emotion, labeled_songs):\n",
        "    songs = labeled_songs.get(emotion.lower())\n",
        "    if songs:\n",
        "        return songs[:5]  # 최대 5개의 곡을 반환\n",
        "    else:\n",
        "        return \"Sorry, I couldn't find songs for that emotion.\"\n",
        "\n",
        "# 파일 경로\n",
        "file_path = \"/tmp/music.txt\"\n",
        "\n",
        "# 곡과 감정이 라벨링된 데이터셋 읽어오기\n",
        "labeled_songs_dataset = read_labeled_songs_file(file_path)\n",
        "\n",
        "# 사용자 입력 받기\n",
        "emotion = input(\"Enter your emotion (happy, angry, sad, anxious): \")\n",
        "\n",
        "# 입력된 감정에 대한 곡 제목 5개 출력\n",
        "recommended_songs = find_songs_by_emotion(emotion, labeled_songs_dataset)\n",
        "print(\"Recommended songs for\", emotion, \":\", recommended_songs)"
      ]
    }
  ]
}